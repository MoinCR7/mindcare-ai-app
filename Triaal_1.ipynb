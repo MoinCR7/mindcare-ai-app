{
 "cells": [
  {
   "cell_type": "code",
   "execution_count": 3,
   "id": "896253b6",
   "metadata": {},
   "outputs": [
    {
     "name": "stdout",
     "output_type": "stream",
     "text": [
      "Dataset size: 10204\n",
      "      id                                               text       label  \\\n",
      "0   8991  Gusse se sab tod dena chahta hoon kabhi kabhi....       anger   \n",
      "1   3434  Constant worrying about future, kya hoga? rank...     anxiety   \n",
      "2   1088  Midterms -> sleepless nights, headache and str...      stress   \n",
      "3   6486  Hostel mein sab busy hai, kisi se baat karne k...  loneliness   \n",
      "4  10063     Average day, nothing major happened in class 😤     neutral   \n",
      "\n",
      "  severity  \n",
      "0    green  \n",
      "1      red  \n",
      "2    green  \n",
      "3    green  \n",
      "4    green  \n",
      "Emotion classes: ['anger', 'anxiety', 'burnout', 'loneliness', 'neutral', 'sadness', 'stress']\n",
      "Severity classes: ['amber', 'green', 'red']\n"
     ]
    },
    {
     "name": "stderr",
     "output_type": "stream",
     "text": [
      "c:\\Users\\moin2\\AppData\\Local\\Programs\\Python\\Python312\\Lib\\site-packages\\keras\\src\\layers\\core\\embedding.py:90: UserWarning: Argument `input_length` is deprecated. Just remove it.\n",
      "  warnings.warn(\n"
     ]
    },
    {
     "data": {
      "text/html": [
       "<pre style=\"white-space:pre;overflow-x:auto;line-height:normal;font-family:Menlo,'DejaVu Sans Mono',consolas,'Courier New',monospace\"><span style=\"font-weight: bold\">Model: \"functional_2\"</span>\n",
       "</pre>\n"
      ],
      "text/plain": [
       "\u001b[1mModel: \"functional_2\"\u001b[0m\n"
      ]
     },
     "metadata": {},
     "output_type": "display_data"
    },
    {
     "data": {
      "text/html": [
       "<pre style=\"white-space:pre;overflow-x:auto;line-height:normal;font-family:Menlo,'DejaVu Sans Mono',consolas,'Courier New',monospace\">┏━━━━━━━━━━━━━━━━━━━━━━━━━━━━━━━━━┳━━━━━━━━━━━━━━━━━━━━━━━━┳━━━━━━━━━━━━━━━┓\n",
       "┃<span style=\"font-weight: bold\"> Layer (type)                    </span>┃<span style=\"font-weight: bold\"> Output Shape           </span>┃<span style=\"font-weight: bold\">       Param # </span>┃\n",
       "┡━━━━━━━━━━━━━━━━━━━━━━━━━━━━━━━━━╇━━━━━━━━━━━━━━━━━━━━━━━━╇━━━━━━━━━━━━━━━┩\n",
       "│ input_layer_2 (<span style=\"color: #0087ff; text-decoration-color: #0087ff\">InputLayer</span>)      │ (<span style=\"color: #00d7ff; text-decoration-color: #00d7ff\">None</span>, <span style=\"color: #00af00; text-decoration-color: #00af00\">60</span>)             │             <span style=\"color: #00af00; text-decoration-color: #00af00\">0</span> │\n",
       "├─────────────────────────────────┼────────────────────────┼───────────────┤\n",
       "│ embedding_2 (<span style=\"color: #0087ff; text-decoration-color: #0087ff\">Embedding</span>)         │ (<span style=\"color: #00d7ff; text-decoration-color: #00d7ff\">None</span>, <span style=\"color: #00af00; text-decoration-color: #00af00\">60</span>, <span style=\"color: #00af00; text-decoration-color: #00af00\">128</span>)        │     <span style=\"color: #00af00; text-decoration-color: #00af00\">2,560,000</span> │\n",
       "├─────────────────────────────────┼────────────────────────┼───────────────┤\n",
       "│ spatial_dropout1d_1             │ (<span style=\"color: #00d7ff; text-decoration-color: #00d7ff\">None</span>, <span style=\"color: #00af00; text-decoration-color: #00af00\">60</span>, <span style=\"color: #00af00; text-decoration-color: #00af00\">128</span>)        │             <span style=\"color: #00af00; text-decoration-color: #00af00\">0</span> │\n",
       "│ (<span style=\"color: #0087ff; text-decoration-color: #0087ff\">SpatialDropout1D</span>)              │                        │               │\n",
       "├─────────────────────────────────┼────────────────────────┼───────────────┤\n",
       "│ bidirectional_1 (<span style=\"color: #0087ff; text-decoration-color: #0087ff\">Bidirectional</span>) │ (<span style=\"color: #00d7ff; text-decoration-color: #00d7ff\">None</span>, <span style=\"color: #00af00; text-decoration-color: #00af00\">128</span>)            │        <span style=\"color: #00af00; text-decoration-color: #00af00\">98,816</span> │\n",
       "├─────────────────────────────────┼────────────────────────┼───────────────┤\n",
       "│ dropout_2 (<span style=\"color: #0087ff; text-decoration-color: #0087ff\">Dropout</span>)             │ (<span style=\"color: #00d7ff; text-decoration-color: #00d7ff\">None</span>, <span style=\"color: #00af00; text-decoration-color: #00af00\">128</span>)            │             <span style=\"color: #00af00; text-decoration-color: #00af00\">0</span> │\n",
       "├─────────────────────────────────┼────────────────────────┼───────────────┤\n",
       "│ dense_2 (<span style=\"color: #0087ff; text-decoration-color: #0087ff\">Dense</span>)                 │ (<span style=\"color: #00d7ff; text-decoration-color: #00d7ff\">None</span>, <span style=\"color: #00af00; text-decoration-color: #00af00\">7</span>)              │           <span style=\"color: #00af00; text-decoration-color: #00af00\">903</span> │\n",
       "└─────────────────────────────────┴────────────────────────┴───────────────┘\n",
       "</pre>\n"
      ],
      "text/plain": [
       "┏━━━━━━━━━━━━━━━━━━━━━━━━━━━━━━━━━┳━━━━━━━━━━━━━━━━━━━━━━━━┳━━━━━━━━━━━━━━━┓\n",
       "┃\u001b[1m \u001b[0m\u001b[1mLayer (type)                   \u001b[0m\u001b[1m \u001b[0m┃\u001b[1m \u001b[0m\u001b[1mOutput Shape          \u001b[0m\u001b[1m \u001b[0m┃\u001b[1m \u001b[0m\u001b[1m      Param #\u001b[0m\u001b[1m \u001b[0m┃\n",
       "┡━━━━━━━━━━━━━━━━━━━━━━━━━━━━━━━━━╇━━━━━━━━━━━━━━━━━━━━━━━━╇━━━━━━━━━━━━━━━┩\n",
       "│ input_layer_2 (\u001b[38;5;33mInputLayer\u001b[0m)      │ (\u001b[38;5;45mNone\u001b[0m, \u001b[38;5;34m60\u001b[0m)             │             \u001b[38;5;34m0\u001b[0m │\n",
       "├─────────────────────────────────┼────────────────────────┼───────────────┤\n",
       "│ embedding_2 (\u001b[38;5;33mEmbedding\u001b[0m)         │ (\u001b[38;5;45mNone\u001b[0m, \u001b[38;5;34m60\u001b[0m, \u001b[38;5;34m128\u001b[0m)        │     \u001b[38;5;34m2,560,000\u001b[0m │\n",
       "├─────────────────────────────────┼────────────────────────┼───────────────┤\n",
       "│ spatial_dropout1d_1             │ (\u001b[38;5;45mNone\u001b[0m, \u001b[38;5;34m60\u001b[0m, \u001b[38;5;34m128\u001b[0m)        │             \u001b[38;5;34m0\u001b[0m │\n",
       "│ (\u001b[38;5;33mSpatialDropout1D\u001b[0m)              │                        │               │\n",
       "├─────────────────────────────────┼────────────────────────┼───────────────┤\n",
       "│ bidirectional_1 (\u001b[38;5;33mBidirectional\u001b[0m) │ (\u001b[38;5;45mNone\u001b[0m, \u001b[38;5;34m128\u001b[0m)            │        \u001b[38;5;34m98,816\u001b[0m │\n",
       "├─────────────────────────────────┼────────────────────────┼───────────────┤\n",
       "│ dropout_2 (\u001b[38;5;33mDropout\u001b[0m)             │ (\u001b[38;5;45mNone\u001b[0m, \u001b[38;5;34m128\u001b[0m)            │             \u001b[38;5;34m0\u001b[0m │\n",
       "├─────────────────────────────────┼────────────────────────┼───────────────┤\n",
       "│ dense_2 (\u001b[38;5;33mDense\u001b[0m)                 │ (\u001b[38;5;45mNone\u001b[0m, \u001b[38;5;34m7\u001b[0m)              │           \u001b[38;5;34m903\u001b[0m │\n",
       "└─────────────────────────────────┴────────────────────────┴───────────────┘\n"
      ]
     },
     "metadata": {},
     "output_type": "display_data"
    },
    {
     "data": {
      "text/html": [
       "<pre style=\"white-space:pre;overflow-x:auto;line-height:normal;font-family:Menlo,'DejaVu Sans Mono',consolas,'Courier New',monospace\"><span style=\"font-weight: bold\"> Total params: </span><span style=\"color: #00af00; text-decoration-color: #00af00\">2,659,719</span> (10.15 MB)\n",
       "</pre>\n"
      ],
      "text/plain": [
       "\u001b[1m Total params: \u001b[0m\u001b[38;5;34m2,659,719\u001b[0m (10.15 MB)\n"
      ]
     },
     "metadata": {},
     "output_type": "display_data"
    },
    {
     "data": {
      "text/html": [
       "<pre style=\"white-space:pre;overflow-x:auto;line-height:normal;font-family:Menlo,'DejaVu Sans Mono',consolas,'Courier New',monospace\"><span style=\"font-weight: bold\"> Trainable params: </span><span style=\"color: #00af00; text-decoration-color: #00af00\">2,659,719</span> (10.15 MB)\n",
       "</pre>\n"
      ],
      "text/plain": [
       "\u001b[1m Trainable params: \u001b[0m\u001b[38;5;34m2,659,719\u001b[0m (10.15 MB)\n"
      ]
     },
     "metadata": {},
     "output_type": "display_data"
    },
    {
     "data": {
      "text/html": [
       "<pre style=\"white-space:pre;overflow-x:auto;line-height:normal;font-family:Menlo,'DejaVu Sans Mono',consolas,'Courier New',monospace\"><span style=\"font-weight: bold\"> Non-trainable params: </span><span style=\"color: #00af00; text-decoration-color: #00af00\">0</span> (0.00 B)\n",
       "</pre>\n"
      ],
      "text/plain": [
       "\u001b[1m Non-trainable params: \u001b[0m\u001b[38;5;34m0\u001b[0m (0.00 B)\n"
      ]
     },
     "metadata": {},
     "output_type": "display_data"
    },
    {
     "data": {
      "text/html": [
       "<pre style=\"white-space:pre;overflow-x:auto;line-height:normal;font-family:Menlo,'DejaVu Sans Mono',consolas,'Courier New',monospace\"><span style=\"font-weight: bold\">Model: \"functional_3\"</span>\n",
       "</pre>\n"
      ],
      "text/plain": [
       "\u001b[1mModel: \"functional_3\"\u001b[0m\n"
      ]
     },
     "metadata": {},
     "output_type": "display_data"
    },
    {
     "data": {
      "text/html": [
       "<pre style=\"white-space:pre;overflow-x:auto;line-height:normal;font-family:Menlo,'DejaVu Sans Mono',consolas,'Courier New',monospace\">┏━━━━━━━━━━━━━━━━━━━━━━━━━━━━━━━━━┳━━━━━━━━━━━━━━━━━━━━━━━━┳━━━━━━━━━━━━━━━┓\n",
       "┃<span style=\"font-weight: bold\"> Layer (type)                    </span>┃<span style=\"font-weight: bold\"> Output Shape           </span>┃<span style=\"font-weight: bold\">       Param # </span>┃\n",
       "┡━━━━━━━━━━━━━━━━━━━━━━━━━━━━━━━━━╇━━━━━━━━━━━━━━━━━━━━━━━━╇━━━━━━━━━━━━━━━┩\n",
       "│ input_layer_3 (<span style=\"color: #0087ff; text-decoration-color: #0087ff\">InputLayer</span>)      │ (<span style=\"color: #00d7ff; text-decoration-color: #00d7ff\">None</span>, <span style=\"color: #00af00; text-decoration-color: #00af00\">60</span>)             │             <span style=\"color: #00af00; text-decoration-color: #00af00\">0</span> │\n",
       "├─────────────────────────────────┼────────────────────────┼───────────────┤\n",
       "│ embedding_3 (<span style=\"color: #0087ff; text-decoration-color: #0087ff\">Embedding</span>)         │ (<span style=\"color: #00d7ff; text-decoration-color: #00d7ff\">None</span>, <span style=\"color: #00af00; text-decoration-color: #00af00\">60</span>, <span style=\"color: #00af00; text-decoration-color: #00af00\">128</span>)        │     <span style=\"color: #00af00; text-decoration-color: #00af00\">2,560,000</span> │\n",
       "├─────────────────────────────────┼────────────────────────┼───────────────┤\n",
       "│ conv1d_1 (<span style=\"color: #0087ff; text-decoration-color: #0087ff\">Conv1D</span>)               │ (<span style=\"color: #00d7ff; text-decoration-color: #00d7ff\">None</span>, <span style=\"color: #00af00; text-decoration-color: #00af00\">60</span>, <span style=\"color: #00af00; text-decoration-color: #00af00\">128</span>)        │        <span style=\"color: #00af00; text-decoration-color: #00af00\">49,280</span> │\n",
       "├─────────────────────────────────┼────────────────────────┼───────────────┤\n",
       "│ global_max_pooling1d_1          │ (<span style=\"color: #00d7ff; text-decoration-color: #00d7ff\">None</span>, <span style=\"color: #00af00; text-decoration-color: #00af00\">128</span>)            │             <span style=\"color: #00af00; text-decoration-color: #00af00\">0</span> │\n",
       "│ (<span style=\"color: #0087ff; text-decoration-color: #0087ff\">GlobalMaxPooling1D</span>)            │                        │               │\n",
       "├─────────────────────────────────┼────────────────────────┼───────────────┤\n",
       "│ dropout_3 (<span style=\"color: #0087ff; text-decoration-color: #0087ff\">Dropout</span>)             │ (<span style=\"color: #00d7ff; text-decoration-color: #00d7ff\">None</span>, <span style=\"color: #00af00; text-decoration-color: #00af00\">128</span>)            │             <span style=\"color: #00af00; text-decoration-color: #00af00\">0</span> │\n",
       "├─────────────────────────────────┼────────────────────────┼───────────────┤\n",
       "│ dense_3 (<span style=\"color: #0087ff; text-decoration-color: #0087ff\">Dense</span>)                 │ (<span style=\"color: #00d7ff; text-decoration-color: #00d7ff\">None</span>, <span style=\"color: #00af00; text-decoration-color: #00af00\">3</span>)              │           <span style=\"color: #00af00; text-decoration-color: #00af00\">387</span> │\n",
       "└─────────────────────────────────┴────────────────────────┴───────────────┘\n",
       "</pre>\n"
      ],
      "text/plain": [
       "┏━━━━━━━━━━━━━━━━━━━━━━━━━━━━━━━━━┳━━━━━━━━━━━━━━━━━━━━━━━━┳━━━━━━━━━━━━━━━┓\n",
       "┃\u001b[1m \u001b[0m\u001b[1mLayer (type)                   \u001b[0m\u001b[1m \u001b[0m┃\u001b[1m \u001b[0m\u001b[1mOutput Shape          \u001b[0m\u001b[1m \u001b[0m┃\u001b[1m \u001b[0m\u001b[1m      Param #\u001b[0m\u001b[1m \u001b[0m┃\n",
       "┡━━━━━━━━━━━━━━━━━━━━━━━━━━━━━━━━━╇━━━━━━━━━━━━━━━━━━━━━━━━╇━━━━━━━━━━━━━━━┩\n",
       "│ input_layer_3 (\u001b[38;5;33mInputLayer\u001b[0m)      │ (\u001b[38;5;45mNone\u001b[0m, \u001b[38;5;34m60\u001b[0m)             │             \u001b[38;5;34m0\u001b[0m │\n",
       "├─────────────────────────────────┼────────────────────────┼───────────────┤\n",
       "│ embedding_3 (\u001b[38;5;33mEmbedding\u001b[0m)         │ (\u001b[38;5;45mNone\u001b[0m, \u001b[38;5;34m60\u001b[0m, \u001b[38;5;34m128\u001b[0m)        │     \u001b[38;5;34m2,560,000\u001b[0m │\n",
       "├─────────────────────────────────┼────────────────────────┼───────────────┤\n",
       "│ conv1d_1 (\u001b[38;5;33mConv1D\u001b[0m)               │ (\u001b[38;5;45mNone\u001b[0m, \u001b[38;5;34m60\u001b[0m, \u001b[38;5;34m128\u001b[0m)        │        \u001b[38;5;34m49,280\u001b[0m │\n",
       "├─────────────────────────────────┼────────────────────────┼───────────────┤\n",
       "│ global_max_pooling1d_1          │ (\u001b[38;5;45mNone\u001b[0m, \u001b[38;5;34m128\u001b[0m)            │             \u001b[38;5;34m0\u001b[0m │\n",
       "│ (\u001b[38;5;33mGlobalMaxPooling1D\u001b[0m)            │                        │               │\n",
       "├─────────────────────────────────┼────────────────────────┼───────────────┤\n",
       "│ dropout_3 (\u001b[38;5;33mDropout\u001b[0m)             │ (\u001b[38;5;45mNone\u001b[0m, \u001b[38;5;34m128\u001b[0m)            │             \u001b[38;5;34m0\u001b[0m │\n",
       "├─────────────────────────────────┼────────────────────────┼───────────────┤\n",
       "│ dense_3 (\u001b[38;5;33mDense\u001b[0m)                 │ (\u001b[38;5;45mNone\u001b[0m, \u001b[38;5;34m3\u001b[0m)              │           \u001b[38;5;34m387\u001b[0m │\n",
       "└─────────────────────────────────┴────────────────────────┴───────────────┘\n"
      ]
     },
     "metadata": {},
     "output_type": "display_data"
    },
    {
     "data": {
      "text/html": [
       "<pre style=\"white-space:pre;overflow-x:auto;line-height:normal;font-family:Menlo,'DejaVu Sans Mono',consolas,'Courier New',monospace\"><span style=\"font-weight: bold\"> Total params: </span><span style=\"color: #00af00; text-decoration-color: #00af00\">2,609,667</span> (9.96 MB)\n",
       "</pre>\n"
      ],
      "text/plain": [
       "\u001b[1m Total params: \u001b[0m\u001b[38;5;34m2,609,667\u001b[0m (9.96 MB)\n"
      ]
     },
     "metadata": {},
     "output_type": "display_data"
    },
    {
     "data": {
      "text/html": [
       "<pre style=\"white-space:pre;overflow-x:auto;line-height:normal;font-family:Menlo,'DejaVu Sans Mono',consolas,'Courier New',monospace\"><span style=\"font-weight: bold\"> Trainable params: </span><span style=\"color: #00af00; text-decoration-color: #00af00\">2,609,667</span> (9.96 MB)\n",
       "</pre>\n"
      ],
      "text/plain": [
       "\u001b[1m Trainable params: \u001b[0m\u001b[38;5;34m2,609,667\u001b[0m (9.96 MB)\n"
      ]
     },
     "metadata": {},
     "output_type": "display_data"
    },
    {
     "data": {
      "text/html": [
       "<pre style=\"white-space:pre;overflow-x:auto;line-height:normal;font-family:Menlo,'DejaVu Sans Mono',consolas,'Courier New',monospace\"><span style=\"font-weight: bold\"> Non-trainable params: </span><span style=\"color: #00af00; text-decoration-color: #00af00\">0</span> (0.00 B)\n",
       "</pre>\n"
      ],
      "text/plain": [
       "\u001b[1m Non-trainable params: \u001b[0m\u001b[38;5;34m0\u001b[0m (0.00 B)\n"
      ]
     },
     "metadata": {},
     "output_type": "display_data"
    },
    {
     "name": "stdout",
     "output_type": "stream",
     "text": [
      "Epoch 1/8\n",
      "58/58 - 10s - 176ms/step - accuracy: 0.6760 - loss: 1.1140 - val_accuracy: 0.9829 - val_loss: 0.1423\n",
      "Epoch 2/8\n",
      "58/58 - 6s - 96ms/step - accuracy: 0.9981 - loss: 0.0572 - val_accuracy: 0.9988 - val_loss: 0.0175\n",
      "Epoch 3/8\n",
      "58/58 - 5s - 92ms/step - accuracy: 1.0000 - loss: 0.0119 - val_accuracy: 0.9988 - val_loss: 0.0079\n",
      "Epoch 4/8\n",
      "58/58 - 5s - 89ms/step - accuracy: 1.0000 - loss: 0.0058 - val_accuracy: 0.9988 - val_loss: 0.0053\n",
      "Epoch 5/8\n",
      "58/58 - 5s - 90ms/step - accuracy: 1.0000 - loss: 0.0041 - val_accuracy: 0.9988 - val_loss: 0.0044\n",
      "Epoch 1/8\n",
      "58/58 - 3s - 56ms/step - accuracy: 0.7111 - loss: 0.7669 - val_accuracy: 0.7099 - val_loss: 0.7181\n",
      "Epoch 2/8\n",
      "58/58 - 2s - 29ms/step - accuracy: 0.7163 - loss: 0.6924 - val_accuracy: 0.7099 - val_loss: 0.6958\n",
      "Epoch 3/8\n",
      "58/58 - 2s - 29ms/step - accuracy: 0.7159 - loss: 0.6808 - val_accuracy: 0.7099 - val_loss: 0.6884\n",
      "Epoch 4/8\n",
      "58/58 - 2s - 30ms/step - accuracy: 0.7159 - loss: 0.6717 - val_accuracy: 0.7111 - val_loss: 0.6858\n",
      "Epoch 5/8\n",
      "58/58 - 2s - 29ms/step - accuracy: 0.7189 - loss: 0.6635 - val_accuracy: 0.7124 - val_loss: 0.6810\n",
      "Epoch 6/8\n",
      "58/58 - 2s - 29ms/step - accuracy: 0.7197 - loss: 0.6592 - val_accuracy: 0.7136 - val_loss: 0.6838\n",
      "Epoch 7/8\n",
      "58/58 - 2s - 29ms/step - accuracy: 0.7208 - loss: 0.6587 - val_accuracy: 0.7173 - val_loss: 0.6862\n",
      "Epoch 8/8\n",
      "58/58 - 2s - 29ms/step - accuracy: 0.7211 - loss: 0.6501 - val_accuracy: 0.7173 - val_loss: 0.6804\n",
      "\u001b[1m64/64\u001b[0m \u001b[32m━━━━━━━━━━━━━━━━━━━━\u001b[0m\u001b[37m\u001b[0m \u001b[1m1s\u001b[0m 17ms/step\n",
      "\u001b[1m64/64\u001b[0m \u001b[32m━━━━━━━━━━━━━━━━━━━━\u001b[0m\u001b[37m\u001b[0m \u001b[1m0s\u001b[0m 4ms/step\n",
      "=== Emotion Report ===\n",
      "              precision    recall  f1-score   support\n",
      "\n",
      "       anger       1.00      1.00      1.00       200\n",
      "     anxiety       1.00      1.00      1.00       400\n",
      "     burnout       1.00      1.00      1.00       300\n",
      "  loneliness       1.00      1.00      1.00       300\n",
      "     neutral       1.00      1.00      1.00       100\n",
      "     sadness       1.00      1.00      1.00       341\n",
      "      stress       1.00      1.00      1.00       400\n",
      "\n",
      "    accuracy                           1.00      2041\n",
      "   macro avg       1.00      1.00      1.00      2041\n",
      "weighted avg       1.00      1.00      1.00      2041\n",
      "\n",
      "=== Severity Report ===\n",
      "              precision    recall  f1-score   support\n",
      "\n",
      "       amber       0.00      0.00      0.00       443\n",
      "       green       0.72      1.00      0.84      1464\n",
      "         red       1.00      0.02      0.04       134\n",
      "\n",
      "    accuracy                           0.72      2041\n",
      "   macro avg       0.57      0.34      0.29      2041\n",
      "weighted avg       0.58      0.72      0.60      2041\n",
      "\n",
      "✅ Models + encoders saved in ./artifacts/\n"
     ]
    }
   ],
   "source": [
    "# ============================\n",
    "# 1. Setup & Imports\n",
    "# ============================\n",
    "import pandas as pd\n",
    "import numpy as np\n",
    "import os, joblib, re\n",
    "\n",
    "from sklearn.preprocessing import LabelEncoder\n",
    "from sklearn.model_selection import train_test_split\n",
    "from sklearn.metrics import classification_report\n",
    "\n",
    "import tensorflow as tf\n",
    "from tensorflow.keras.preprocessing.text import Tokenizer\n",
    "from tensorflow.keras.preprocessing.sequence import pad_sequences\n",
    "from tensorflow.keras.models import Model\n",
    "from tensorflow.keras.layers import Input, Embedding, Bidirectional, LSTM, Dense, Dropout, Conv1D, GlobalMaxPooling1D, SpatialDropout1D\n",
    "\n",
    "# ============================\n",
    "# 2. Load Dataset\n",
    "# ============================\n",
    "\n",
    "df = pd.read_csv('df.csv')\n",
    "\n",
    "print(\"Dataset size:\", len(df))\n",
    "print(df.head())\n",
    "\n",
    "texts = df['text'].astype(str).values\n",
    "labels = df['label'].values\n",
    "severities = df['severity'].values\n",
    "\n",
    "# ============================\n",
    "# 3. Encode Labels\n",
    "# ============================\n",
    "label_enc = LabelEncoder()\n",
    "y_labels = label_enc.fit_transform(labels)\n",
    "sev_enc = LabelEncoder()\n",
    "y_sev = sev_enc.fit_transform(severities)\n",
    "\n",
    "print(\"Emotion classes:\", list(label_enc.classes_))\n",
    "print(\"Severity classes:\", list(sev_enc.classes_))\n",
    "\n",
    "# ============================\n",
    "# 4. Train-Test Split\n",
    "# ============================\n",
    "X_train, X_test, y_train, y_test, ys_train, ys_test = train_test_split(\n",
    "    texts, y_labels, y_sev,\n",
    "    test_size=0.2, stratify=labels, random_state=42\n",
    ")\n",
    "\n",
    "# ============================\n",
    "# 5. Tokenizer & Sequences\n",
    "# ============================\n",
    "vocab_size = 20000\n",
    "maxlen = 60\n",
    "tokenizer = Tokenizer(num_words=vocab_size, oov_token=\"<OOV>\")\n",
    "tokenizer.fit_on_texts(X_train)\n",
    "\n",
    "X_train_seq = tokenizer.texts_to_sequences(X_train)\n",
    "X_test_seq = tokenizer.texts_to_sequences(X_test)\n",
    "\n",
    "X_train_pad = pad_sequences(X_train_seq, maxlen=maxlen, padding=\"post\", truncating=\"post\")\n",
    "X_test_pad = pad_sequences(X_test_seq, maxlen=maxlen, padding=\"post\", truncating=\"post\")\n",
    "\n",
    "# Save tokenizer + encoders\n",
    "os.makedirs(\"artifacts\", exist_ok=True)\n",
    "joblib.dump(tokenizer, \"artifacts/tokenizer.pkl\")\n",
    "joblib.dump(label_enc, \"artifacts/label_encoder.pkl\")\n",
    "joblib.dump(sev_enc, \"artifacts/severity_encoder.pkl\")\n",
    "\n",
    "# ============================\n",
    "# 6. Emotion Model (BiLSTM)\n",
    "# ============================\n",
    "input_text = Input(shape=(maxlen,))\n",
    "x = Embedding(vocab_size, 128, input_length=maxlen)(input_text)\n",
    "x = SpatialDropout1D(0.2)(x)\n",
    "x = Bidirectional(LSTM(64))(x)\n",
    "x = Dropout(0.3)(x)\n",
    "out_emotion = Dense(len(label_enc.classes_), activation=\"softmax\")(x)\n",
    "\n",
    "emotion_model = Model(input_text, out_emotion)\n",
    "emotion_model.compile(optimizer=\"adam\", loss=\"sparse_categorical_crossentropy\", metrics=[\"accuracy\"])\n",
    "emotion_model.summary()\n",
    "\n",
    "# ============================\n",
    "# 7. Severity Model (Conv1D)\n",
    "# ============================\n",
    "input_text2 = Input(shape=(maxlen,))\n",
    "y = Embedding(vocab_size, 128, input_length=maxlen)(input_text2)\n",
    "y = Conv1D(128, 3, activation=\"relu\", padding=\"same\")(y)\n",
    "y = GlobalMaxPooling1D()(y)\n",
    "y = Dropout(0.3)(y)\n",
    "out_severity = Dense(len(sev_enc.classes_), activation=\"softmax\")(y)\n",
    "\n",
    "sev_model = Model(input_text2, out_severity)\n",
    "sev_model.compile(optimizer=\"adam\", loss=\"sparse_categorical_crossentropy\", metrics=[\"accuracy\"])\n",
    "sev_model.summary()\n",
    "\n",
    "# ============================\n",
    "# 8. Training\n",
    "# ============================\n",
    "es = tf.keras.callbacks.EarlyStopping(monitor=\"val_accuracy\", patience=3, restore_best_weights=True)\n",
    "\n",
    "history_emotion = emotion_model.fit(\n",
    "    X_train_pad, y_train,\n",
    "    validation_split=0.1,\n",
    "    epochs=8,\n",
    "    batch_size=128,\n",
    "    callbacks=[es],\n",
    "    verbose=2\n",
    ")\n",
    "\n",
    "history_sev = sev_model.fit(\n",
    "    X_train_pad, ys_train,\n",
    "    validation_split=0.1,\n",
    "    epochs=8,\n",
    "    batch_size=128,\n",
    "    callbacks=[es],\n",
    "    verbose=2\n",
    ")\n",
    "\n",
    "# ============================\n",
    "# 9. Evaluation\n",
    "# ============================\n",
    "pred_em = np.argmax(emotion_model.predict(X_test_pad), axis=1)\n",
    "pred_sev = np.argmax(sev_model.predict(X_test_pad), axis=1)\n",
    "\n",
    "print(\"=== Emotion Report ===\")\n",
    "print(classification_report(y_test, pred_em, target_names=label_enc.classes_))\n",
    "\n",
    "print(\"=== Severity Report ===\")\n",
    "print(classification_report(ys_test, pred_sev, target_names=sev_enc.classes_))\n",
    "\n",
    "# ============================\n",
    "# 10. Save Models\n",
    "# ============================\n",
    "emotion_model.save(\"artifacts/emotion_model.keras\")\n",
    "sev_model.save(\"artifacts/severity_model.keras\")\n",
    "\n",
    "print(\"✅ Models + encoders saved in ./artifacts/\")\n"
   ]
  },
  {
   "cell_type": "code",
   "execution_count": null,
   "id": "0d58cf62",
   "metadata": {},
   "outputs": [],
   "source": []
  },
  {
   "cell_type": "code",
   "execution_count": null,
   "id": "358e61a3",
   "metadata": {},
   "outputs": [],
   "source": []
  },
  {
   "cell_type": "code",
   "execution_count": null,
   "id": "a501474b",
   "metadata": {},
   "outputs": [],
   "source": []
  }
 ],
 "metadata": {
  "kernelspec": {
   "display_name": "Python 3",
   "language": "python",
   "name": "python3"
  },
  "language_info": {
   "codemirror_mode": {
    "name": "ipython",
    "version": 3
   },
   "file_extension": ".py",
   "mimetype": "text/x-python",
   "name": "python",
   "nbconvert_exporter": "python",
   "pygments_lexer": "ipython3",
   "version": "3.12.8"
  }
 },
 "nbformat": 4,
 "nbformat_minor": 5
}
